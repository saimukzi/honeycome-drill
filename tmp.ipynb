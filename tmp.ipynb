{
 "cells": [
  {
   "cell_type": "code",
   "execution_count": 1,
   "metadata": {},
   "outputs": [],
   "source": [
    "# define some useful functions\n",
    "\n",
    "def read_bytes(path):\n",
    "    with open(path, 'rb') as f:\n",
    "        return f.read()\n",
    "\n",
    "def write_bytes(path, bytes):\n",
    "    with open(path, 'wb') as f:\n",
    "        f.write(bytes)\n",
    "\n",
    "def print_list(llist):\n",
    "    for i in llist:\n",
    "        print(i)\n"
   ]
  },
  {
   "cell_type": "code",
   "execution_count": 2,
   "metadata": {},
   "outputs": [],
   "source": [
    "# define png chunk parser\n",
    "\n",
    "def parse_png_chunk_data_list(bytes):\n",
    "    output_data_list = []\n",
    "    i = 0\n",
    "    if bytes[i:i+8] != b'\\x89PNG\\r\\n\\x1a\\n':\n",
    "        raise Exception('invalid PNG header')\n",
    "    output_data_list.append({\n",
    "        'type': 'header',\n",
    "        'start': i,\n",
    "        'end': i+8,\n",
    "        'length': 8,\n",
    "    })\n",
    "    i += 8\n",
    "    while True:\n",
    "        if i >= len(bytes):\n",
    "            raise Exception(f'unexpected end of file: i={i}, len(bytes)={len(bytes)}')\n",
    "        start = i\n",
    "        length = int.from_bytes(bytes[i:i+4], 'big')\n",
    "        i += 4\n",
    "        chunk_type = bytes[i:i+4]\n",
    "        i += 4\n",
    "        i += length\n",
    "        i += 4 # CRC\n",
    "        end = i\n",
    "        output_data_list.append({\n",
    "            'type': 'chunk',\n",
    "            'chunk_type': chunk_type,\n",
    "            'start': start,\n",
    "            'end': end,\n",
    "            'length': end - start,\n",
    "        })\n",
    "        if chunk_type == b'IEND':\n",
    "            break\n",
    "    return output_data_list\n"
   ]
  },
  {
   "cell_type": "code",
   "execution_count": 3,
   "metadata": {},
   "outputs": [],
   "source": [
    "# sample file names\n",
    "\n",
    "sample_charcard_face_0_fn   = 'HCCP_F_20230913224620491.png'\n",
    "sample_charcard_face_100_fn = 'HCCP_F_20230913225210929.png'\n"
   ]
  },
  {
   "cell_type": "code",
   "execution_count": 4,
   "metadata": {},
   "outputs": [
    {
     "name": "stdout",
     "output_type": "stream",
     "text": [
      "{'type': 'header', 'start': 0, 'end': 8, 'length': 8}\n",
      "{'type': 'chunk', 'chunk_type': b'IHDR', 'start': 8, 'end': 33, 'length': 25}\n",
      "{'type': 'chunk', 'chunk_type': b'IDAT', 'start': 33, 'end': 8237, 'length': 8204}\n",
      "{'type': 'chunk', 'chunk_type': b'IDAT', 'start': 8237, 'end': 16441, 'length': 8204}\n",
      "{'type': 'chunk', 'chunk_type': b'IDAT', 'start': 16441, 'end': 24645, 'length': 8204}\n",
      "{'type': 'chunk', 'chunk_type': b'IDAT', 'start': 24645, 'end': 32849, 'length': 8204}\n",
      "{'type': 'chunk', 'chunk_type': b'IDAT', 'start': 32849, 'end': 41053, 'length': 8204}\n",
      "{'type': 'chunk', 'chunk_type': b'IDAT', 'start': 41053, 'end': 49257, 'length': 8204}\n",
      "{'type': 'chunk', 'chunk_type': b'IDAT', 'start': 49257, 'end': 57461, 'length': 8204}\n",
      "{'type': 'chunk', 'chunk_type': b'IDAT', 'start': 57461, 'end': 65665, 'length': 8204}\n",
      "{'type': 'chunk', 'chunk_type': b'IDAT', 'start': 65665, 'end': 73869, 'length': 8204}\n",
      "{'type': 'chunk', 'chunk_type': b'IDAT', 'start': 73869, 'end': 82073, 'length': 8204}\n",
      "{'type': 'chunk', 'chunk_type': b'IDAT', 'start': 82073, 'end': 84662, 'length': 2589}\n",
      "{'type': 'chunk', 'chunk_type': b'IEND', 'start': 84662, 'end': 84674, 'length': 12}\n"
     ]
    }
   ],
   "source": [
    "# sample file bytes and parsed data\n",
    "\n",
    "sample_charcard_face_0_bytes = read_bytes(sample_charcard_face_0_fn)\n",
    "sample_charcard_face_0_chunk_data_list = parse_png_chunk_data_list(sample_charcard_face_0_bytes)\n",
    "print_list(sample_charcard_face_0_chunk_data_list)\n"
   ]
  },
  {
   "cell_type": "code",
   "execution_count": 5,
   "metadata": {},
   "outputs": [
    {
     "name": "stdout",
     "output_type": "stream",
     "text": [
      "len(sample_charcard_face_0_bytes)= 179279\n",
      "sample_charcard_face_0_chunk_data_list[-1]['end']= 84674\n",
      "extra data at the end of the png file\n"
     ]
    }
   ],
   "source": [
    "# notice that there are extra data at the end of the png file\n",
    "\n",
    "print(f'len(sample_charcard_face_0_bytes)= {len(sample_charcard_face_0_bytes)}')\n",
    "print(f'sample_charcard_face_0_chunk_data_list[-1][\\'end\\']= {sample_charcard_face_0_chunk_data_list[-1][\"end\"]}')\n",
    "\n",
    "if len(sample_charcard_face_0_bytes) > sample_charcard_face_0_chunk_data_list[-1]['end']:\n",
    "    print('extra data at the end of the png file')\n",
    "else:\n",
    "    print('no extra data at the end of the png file')\n"
   ]
  },
  {
   "cell_type": "code",
   "execution_count": 6,
   "metadata": {},
   "outputs": [],
   "source": [
    "# get the extra bytes from the char card file\n",
    "sample_charcard_face_0_extra_bytes = sample_charcard_face_0_bytes[sample_charcard_face_0_chunk_data_list[-1]['end']:]\n",
    "\n",
    "# write the extra bytes to a file\n",
    "write_bytes('sample_charcard_face_0_extra_bytes.bin', sample_charcard_face_0_extra_bytes)"
   ]
  },
  {
   "cell_type": "code",
   "execution_count": 13,
   "metadata": {},
   "outputs": [
    {
     "name": "stdout",
     "output_type": "stream",
     "text": [
      "data.1.offset = 0x4\n",
      "【HCChara】\n",
      "data.2.offset = 0x12\n",
      "0.0.0\n",
      "data.3.offset = 0x18\n",
      "data.4.offset = 0x60dd\n",
      "data.5.offset = 0x6253\n"
     ]
    }
   ],
   "source": [
    "offset0 = 0\n",
    "\n",
    "# 0: header\n",
    "assert(sample_charcard_face_0_extra_bytes[offset0:offset0+4] == b'\\x64\\x00\\x00\\x00')\n",
    "offset0 += 4\n",
    "\n",
    "# 1: data: contains char \"HCChara\"\n",
    "print(f'data.1.offset = {hex(offset0)}')\n",
    "length = int.from_bytes(sample_charcard_face_0_extra_bytes[offset0:offset0+1], 'little')\n",
    "offset0 += 1\n",
    "bytes = sample_charcard_face_0_extra_bytes[offset0:offset0+length]\n",
    "offset0 += length\n",
    "print(bytes.decode('utf-8'))\n",
    "\n",
    "# 2: data: contains version?\n",
    "print(f'data.2.offset = {hex(offset0)}')\n",
    "length = int.from_bytes(sample_charcard_face_0_extra_bytes[offset0:offset0+1], 'little')\n",
    "offset0 += 1\n",
    "bytes = sample_charcard_face_0_extra_bytes[offset0:offset0+length]\n",
    "offset0 += length\n",
    "print(bytes.decode('utf-8'))\n",
    "\n",
    "# 3: data: contains png data\n",
    "print(f'data.3.offset = {hex(offset0)}')\n",
    "length = int.from_bytes(sample_charcard_face_0_extra_bytes[offset0:offset0+4], 'little')\n",
    "offset0 += 4\n",
    "bytes = sample_charcard_face_0_extra_bytes[offset0:offset0+length]\n",
    "offset0 += length\n",
    "out_fn = 'sample_charcard_face_0_extra_bytes.3.png'\n",
    "print(f'save to {out_fn}')\n",
    "write_bytes(out_fn, bytes)\n",
    "\n",
    "# 4: data\n",
    "print(f'data.4.offset = {hex(offset0)}')\n",
    "length = int.from_bytes(sample_charcard_face_0_extra_bytes[offset0:offset0+4], 'little')\n",
    "offset0 += 4\n",
    "bytes = sample_charcard_face_0_extra_bytes[offset0:offset0+length]\n",
    "offset0 += length\n",
    "out_fn = 'sample_charcard_face_0_extra_bytes.4.bin'\n",
    "print(f'save to {out_fn}')\n",
    "write_bytes(out_fn, bytes)\n",
    "\n",
    "# 4: data\n",
    "print(f'data.5.offset = {hex(offset0)}')\n",
    "\n"
   ]
  },
  {
   "cell_type": "code",
   "execution_count": 16,
   "metadata": {},
   "outputs": [
    {
     "ename": "NameError",
     "evalue": "name 'fn0' is not defined",
     "output_type": "error",
     "traceback": [
      "\u001b[1;31m---------------------------------------------------------------------------\u001b[0m",
      "\u001b[1;31mNameError\u001b[0m                                 Traceback (most recent call last)",
      "Cell \u001b[1;32mIn[16], line 1\u001b[0m\n\u001b[1;32m----> 1\u001b[0m fn0_data \u001b[39m=\u001b[39m read_bytes(fn0)\n\u001b[0;32m      2\u001b[0m fn0_ex \u001b[39m=\u001b[39m fn0_data[chunks_pos[\u001b[39m0\u001b[39m]:]\n\u001b[0;32m      3\u001b[0m write_bytes(\u001b[39m'\u001b[39m\u001b[39mfn0_data.dat\u001b[39m\u001b[39m'\u001b[39m, fn0_ex)\n",
      "\u001b[1;31mNameError\u001b[0m: name 'fn0' is not defined"
     ]
    }
   ],
   "source": [
    "fn0_data = read_bytes(fn0)\n",
    "fn0_ex = fn0_data[chunks_pos[0]:]\n",
    "write_bytes('fn0_data.dat', fn0_ex)\n"
   ]
  },
  {
   "cell_type": "code",
   "execution_count": 14,
   "metadata": {},
   "outputs": [],
   "source": [
    "start = int('0x1c', 16)\n",
    "end = start + int('0x6277', 16)\n",
    "\n",
    "fn0_ex_png = fn0_ex[start:end]\n",
    "write_bytes('fn0_ex_png.png', fn0_ex_png)\n"
   ]
  },
  {
   "cell_type": "code",
   "execution_count": 20,
   "metadata": {},
   "outputs": [
    {
     "name": "stdout",
     "output_type": "stream",
     "text": [
      "69808\n"
     ]
    }
   ],
   "source": [
    "png2 = pngparser.PngParser(fn2)\n",
    "fn2_data = read_bytes(fn2)\n",
    "fn2_data_ex = fn2_data[png2.chunks_pos[-1][0]:]\n",
    "write_bytes('fn2_data_ex.dat', fn2_data_ex)\n",
    "\n",
    "llen = int.from_bytes(fn2_data_ex[24:28], byteorder='little')\n",
    "fn2_data_ex0 = fn2_data_ex[28+llen:]\n",
    "print(len(fn2_data_ex0))\n",
    "write_bytes('fn2_data_ex0.dat', fn2_data_ex0)\n",
    "\n",
    "\n"
   ]
  },
  {
   "cell_type": "code",
   "execution_count": 21,
   "metadata": {},
   "outputs": [
    {
     "name": "stdout",
     "output_type": "stream",
     "text": [
      "69808\n"
     ]
    }
   ],
   "source": [
    "png3 = pngparser.PngParser(fn3)\n",
    "fn3_data = read_bytes(fn3)\n",
    "fn3_data_ex = fn3_data[png3.chunks_pos[-1][0]:]\n",
    "write_bytes('fn3_data_ex.dat', fn3_data_ex)\n",
    "\n",
    "llen = int.from_bytes(fn3_data_ex[24:28], byteorder='little')\n",
    "fn3_data_ex0 = fn3_data_ex[28+llen:]\n",
    "print(len(fn3_data_ex0))\n",
    "write_bytes('fn3_data_ex0.dat', fn3_data_ex0)\n"
   ]
  }
 ],
 "metadata": {
  "kernelspec": {
   "display_name": ".venv",
   "language": "python",
   "name": "python3"
  },
  "language_info": {
   "codemirror_mode": {
    "name": "ipython",
    "version": 3
   },
   "file_extension": ".py",
   "mimetype": "text/x-python",
   "name": "python",
   "nbconvert_exporter": "python",
   "pygments_lexer": "ipython3",
   "version": "3.11.2"
  },
  "orig_nbformat": 4
 },
 "nbformat": 4,
 "nbformat_minor": 2
}
