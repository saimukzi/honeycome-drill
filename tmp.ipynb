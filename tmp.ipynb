{
 "cells": [
  {
   "cell_type": "code",
   "execution_count": 1,
   "metadata": {},
   "outputs": [],
   "source": [
    "# define some useful functions\n",
    "\n",
    "def read_bytes(path):\n",
    "    with open(path, 'rb') as f:\n",
    "        return f.read()\n",
    "\n",
    "def write_bytes(path, bytes):\n",
    "    with open(path, 'wb') as f:\n",
    "        f.write(bytes)\n",
    "\n",
    "def print_list(llist):\n",
    "    for i in llist:\n",
    "        print(i)\n"
   ]
  },
  {
   "cell_type": "code",
   "execution_count": 2,
   "metadata": {},
   "outputs": [],
   "source": [
    "# define png chunk parser\n",
    "\n",
    "def parse_png_chunk_data_list(bytes):\n",
    "    output_data_list = []\n",
    "    i = 0\n",
    "    if bytes[i:i+8] != b'\\x89PNG\\r\\n\\x1a\\n':\n",
    "        raise Exception('invalid PNG header')\n",
    "    output_data_list.append({\n",
    "        'type': 'header',\n",
    "        'start': i,\n",
    "        'end': i+8,\n",
    "        'length': 8,\n",
    "    })\n",
    "    i += 8\n",
    "    while True:\n",
    "        if i >= len(bytes):\n",
    "            raise Exception(f'unexpected end of file: i={i}, len(bytes)={len(bytes)}')\n",
    "        start = i\n",
    "        length = int.from_bytes(bytes[i:i+4], 'big')\n",
    "        i += 4\n",
    "        chunk_type = bytes[i:i+4]\n",
    "        i += 4\n",
    "        i += length\n",
    "        i += 4 # CRC\n",
    "        end = i\n",
    "        output_data_list.append({\n",
    "            'type': 'chunk',\n",
    "            'chunk_type': chunk_type,\n",
    "            'start': start,\n",
    "            'end': end,\n",
    "            'length': end - start,\n",
    "        })\n",
    "        if chunk_type == b'IEND':\n",
    "            break\n",
    "    return output_data_list\n"
   ]
  },
  {
   "cell_type": "code",
   "execution_count": 3,
   "metadata": {},
   "outputs": [],
   "source": [
    "# sample file names\n",
    "\n",
    "sample_charcard_face_0_fn   = 'HCCP_F_20230913224620491.png'\n",
    "sample_charcard_face_100_fn = 'HCCP_F_20230913225210929.png'\n"
   ]
  },
  {
   "cell_type": "code",
   "execution_count": 4,
   "metadata": {},
   "outputs": [
    {
     "name": "stdout",
     "output_type": "stream",
     "text": [
      "{'type': 'header', 'start': 0, 'end': 8, 'length': 8}\n",
      "{'type': 'chunk', 'chunk_type': b'IHDR', 'start': 8, 'end': 33, 'length': 25}\n",
      "{'type': 'chunk', 'chunk_type': b'IDAT', 'start': 33, 'end': 8237, 'length': 8204}\n",
      "{'type': 'chunk', 'chunk_type': b'IDAT', 'start': 8237, 'end': 16441, 'length': 8204}\n",
      "{'type': 'chunk', 'chunk_type': b'IDAT', 'start': 16441, 'end': 24645, 'length': 8204}\n",
      "{'type': 'chunk', 'chunk_type': b'IDAT', 'start': 24645, 'end': 32849, 'length': 8204}\n",
      "{'type': 'chunk', 'chunk_type': b'IDAT', 'start': 32849, 'end': 41053, 'length': 8204}\n",
      "{'type': 'chunk', 'chunk_type': b'IDAT', 'start': 41053, 'end': 49257, 'length': 8204}\n",
      "{'type': 'chunk', 'chunk_type': b'IDAT', 'start': 49257, 'end': 57461, 'length': 8204}\n",
      "{'type': 'chunk', 'chunk_type': b'IDAT', 'start': 57461, 'end': 65665, 'length': 8204}\n",
      "{'type': 'chunk', 'chunk_type': b'IDAT', 'start': 65665, 'end': 73869, 'length': 8204}\n",
      "{'type': 'chunk', 'chunk_type': b'IDAT', 'start': 73869, 'end': 82073, 'length': 8204}\n",
      "{'type': 'chunk', 'chunk_type': b'IDAT', 'start': 82073, 'end': 84662, 'length': 2589}\n",
      "{'type': 'chunk', 'chunk_type': b'IEND', 'start': 84662, 'end': 84674, 'length': 12}\n"
     ]
    }
   ],
   "source": [
    "# sample file bytes and parsed data\n",
    "\n",
    "sample_charcard_face_0_bytes = read_bytes(sample_charcard_face_0_fn)\n",
    "sample_charcard_face_0_chunk_data_list = parse_png_chunk_data_list(sample_charcard_face_0_bytes)\n",
    "print_list(sample_charcard_face_0_chunk_data_list)\n"
   ]
  },
  {
   "cell_type": "code",
   "execution_count": 5,
   "metadata": {},
   "outputs": [
    {
     "name": "stdout",
     "output_type": "stream",
     "text": [
      "len(sample_charcard_face_0_bytes)= 179279\n",
      "sample_charcard_face_0_chunk_data_list[-1]['end']= 84674\n",
      "extra data at the end of the png file\n"
     ]
    }
   ],
   "source": [
    "# notice that there are extra data at the end of the png file\n",
    "\n",
    "print(f'len(sample_charcard_face_0_bytes)= {len(sample_charcard_face_0_bytes)}')\n",
    "print(f'sample_charcard_face_0_chunk_data_list[-1][\\'end\\']= {sample_charcard_face_0_chunk_data_list[-1][\"end\"]}')\n",
    "\n",
    "if len(sample_charcard_face_0_bytes) > sample_charcard_face_0_chunk_data_list[-1]['end']:\n",
    "    print('extra data at the end of the png file')\n",
    "else:\n",
    "    print('no extra data at the end of the png file')\n"
   ]
  },
  {
   "cell_type": "code",
   "execution_count": 6,
   "metadata": {},
   "outputs": [],
   "source": [
    "# get the extra bytes from the char card file\n",
    "sample_charcard_face_0_extra_bytes = sample_charcard_face_0_bytes[sample_charcard_face_0_chunk_data_list[-1]['end']:]\n",
    "\n",
    "# write the extra bytes to a file\n",
    "write_bytes('sample_charcard_face_0_extra_bytes.bin', sample_charcard_face_0_extra_bytes)"
   ]
  },
  {
   "cell_type": "code",
   "execution_count": 19,
   "metadata": {},
   "outputs": [
    {
     "name": "stdout",
     "output_type": "stream",
     "text": [
      "data.1.offset = 0x4\n",
      "【HCChara】\n",
      "data.2.offset = 0x12\n",
      "0.0.0\n",
      "data.3.offset = 0x18\n",
      "save to sample_charcard_face_0_extra_bytes.3.png\n",
      "data.4.offset = 0x60dd\n",
      "save to sample_charcard_face_0_extra_bytes.4.bin\n",
      "data.5.offset = 0x6253\n",
      "save to sample_charcard_face_0_extra_bytes.5.bin\n",
      "data.6.offset = 0x17189\n",
      "offset0 = 94605\n",
      "len(sample_charcard_face_0_extra_bytes) = 94605\n"
     ]
    }
   ],
   "source": [
    "offset0 = 0\n",
    "\n",
    "# 0: header\n",
    "assert(sample_charcard_face_0_extra_bytes[offset0:offset0+4] == b'\\x64\\x00\\x00\\x00')\n",
    "offset0 += 4\n",
    "\n",
    "# 1: data: contains char \"HCChara\"\n",
    "print(f'data.1.offset = {hex(offset0)}')\n",
    "length = int.from_bytes(sample_charcard_face_0_extra_bytes[offset0:offset0+1], 'little')\n",
    "offset0 += 1\n",
    "bytes = sample_charcard_face_0_extra_bytes[offset0:offset0+length]\n",
    "offset0 += length\n",
    "print(bytes.decode('utf-8'))\n",
    "\n",
    "# 2: data: contains version?\n",
    "print(f'data.2.offset = {hex(offset0)}')\n",
    "length = int.from_bytes(sample_charcard_face_0_extra_bytes[offset0:offset0+1], 'little')\n",
    "offset0 += 1\n",
    "bytes = sample_charcard_face_0_extra_bytes[offset0:offset0+length]\n",
    "offset0 += length\n",
    "print(bytes.decode('utf-8'))\n",
    "\n",
    "# 3: data: contains png data\n",
    "print(f'data.3.offset = {hex(offset0)}')\n",
    "length = int.from_bytes(sample_charcard_face_0_extra_bytes[offset0:offset0+4], 'little')\n",
    "offset0 += 4\n",
    "bytes = sample_charcard_face_0_extra_bytes[offset0:offset0+length]\n",
    "offset0 += length\n",
    "out_fn = 'sample_charcard_face_0_extra_bytes.3.png'\n",
    "print(f'save to {out_fn}')\n",
    "write_bytes(out_fn, bytes)\n",
    "\n",
    "# 4: data\n",
    "print(f'data.4.offset = {hex(offset0)}')\n",
    "length = int.from_bytes(sample_charcard_face_0_extra_bytes[offset0:offset0+4], 'little')\n",
    "offset0 += 4\n",
    "bytes = sample_charcard_face_0_extra_bytes[offset0:offset0+length]\n",
    "offset0 += length\n",
    "out_fn = 'sample_charcard_face_0_extra_bytes.4.bin'\n",
    "print(f'save to {out_fn}')\n",
    "write_bytes(out_fn, bytes)\n",
    "\n",
    "# 5: data\n",
    "print(f'data.5.offset = {hex(offset0)}')\n",
    "length = int.from_bytes(sample_charcard_face_0_extra_bytes[offset0:offset0+4], 'little')\n",
    "offset0 += 4\n",
    "bytes = sample_charcard_face_0_extra_bytes[offset0:offset0+length]\n",
    "offset0 += length\n",
    "out_fn = 'sample_charcard_face_0_extra_bytes.5.bin'\n",
    "print(f'save to {out_fn}')\n",
    "write_bytes(out_fn, bytes)\n",
    "\n",
    "# 6: footer\n",
    "print(f'data.6.offset = {hex(offset0)}')\n",
    "offset0 += 4\n",
    "\n",
    "print(f'offset0 = {offset0}')\n",
    "print(f'len(sample_charcard_face_0_extra_bytes) = {len(sample_charcard_face_0_extra_bytes)}')\n"
   ]
  },
  {
   "cell_type": "code",
   "execution_count": 39,
   "metadata": {},
   "outputs": [],
   "source": [
    "def read_a_bytes(bytes, offset):\n",
    "    length = int.from_bytes(bytes[offset:offset+1], 'little')\n",
    "    assert(length > 0xa0)\n",
    "    length -= 0xa0\n",
    "    offset += 1\n",
    "    v = bytes[offset:offset+length]\n",
    "    print(f'offset = {hex(offset)}, bytes = {v}')\n",
    "    offset += length\n",
    "    return offset, v\n",
    "\n",
    "def read_unknown_bytes(bytes, offset, length):\n",
    "    v = bytes[offset:offset+length]\n",
    "    print(f'offset = {hex(offset)}, unknown bytes = {v.hex()}')\n",
    "    offset += length\n",
    "    return offset, v\n",
    "\n"
   ]
  },
  {
   "cell_type": "code",
   "execution_count": 40,
   "metadata": {},
   "outputs": [
    {
     "name": "stdout",
     "output_type": "stream",
     "text": [
      "offset = 0x0, unknown bytes = 81\n",
      "offset = 0x2, bytes = b'lstInfo'\n",
      "offset = 0x9, unknown bytes = 9884\n",
      "offset = 0xc, bytes = b'name'\n",
      "offset = 0x11, bytes = b'Custom'\n",
      "offset = 0x18, bytes = b'version'\n",
      "offset = 0x20, bytes = b'0.0.0'\n",
      "offset = 0x26, bytes = b'pos'\n",
      "offset = 0x29, unknown bytes = 00\n",
      "offset = 0x2b, bytes = b'size'\n",
      "offset = 0x2f, unknown bytes = cd0c6484\n",
      "offset = 0x34, bytes = b'name'\n",
      "offset = 0x39, bytes = b'Coordinate'\n",
      "offset = 0x44, bytes = b'version'\n",
      "offset = 0x4c, bytes = b'0.0.0'\n",
      "offset = 0x52, bytes = b'pos'\n",
      "offset = 0x55, unknown bytes = cd0c64\n",
      "offset = 0x59, bytes = b'size'\n",
      "offset = 0x5d, unknown bytes = cdfbc884\n"
     ]
    }
   ],
   "source": [
    "# parse sample_charcard_face_0_extra_bytes.4.bin\n",
    "ex4_bytes = read_bytes('sample_charcard_face_0_extra_bytes.4.bin')\n",
    "offset = 0\n",
    "\n",
    "offset, _ = read_unknown_bytes(ex4_bytes, offset, 1)\n",
    "offset, _ = read_a_bytes(ex4_bytes, offset)\n",
    "offset, _ = read_unknown_bytes(ex4_bytes, offset, 2)\n",
    "offset, _ = read_a_bytes(ex4_bytes, offset)\n",
    "offset, _ = read_a_bytes(ex4_bytes, offset)\n",
    "offset, _ = read_a_bytes(ex4_bytes, offset)\n",
    "offset, _ = read_a_bytes(ex4_bytes, offset)\n",
    "offset, _ = read_a_bytes(ex4_bytes, offset)\n",
    "offset, _ = read_unknown_bytes(ex4_bytes, offset, 1)\n",
    "offset, _ = read_a_bytes(ex4_bytes, offset)\n",
    "offset, _ = read_unknown_bytes(ex4_bytes, offset, 4)\n",
    "offset, _ = read_a_bytes(ex4_bytes, offset)\n",
    "offset, _ = read_a_bytes(ex4_bytes, offset)\n",
    "offset, _ = read_a_bytes(ex4_bytes, offset)\n",
    "offset, _ = read_a_bytes(ex4_bytes, offset)\n",
    "offset, _ = read_a_bytes(ex4_bytes, offset)\n",
    "offset, _ = read_unknown_bytes(ex4_bytes, offset, 3)\n",
    "offset, _ = read_a_bytes(ex4_bytes, offset)\n",
    "offset, _ = read_unknown_bytes(ex4_bytes, offset, 4)\n"
   ]
  }
 ],
 "metadata": {
  "kernelspec": {
   "display_name": ".venv",
   "language": "python",
   "name": "python3"
  },
  "language_info": {
   "codemirror_mode": {
    "name": "ipython",
    "version": 3
   },
   "file_extension": ".py",
   "mimetype": "text/x-python",
   "name": "python",
   "nbconvert_exporter": "python",
   "pygments_lexer": "ipython3",
   "version": "3.11.2"
  },
  "orig_nbformat": 4
 },
 "nbformat": 4,
 "nbformat_minor": 2
}
